{
 "cells": [
  {
   "cell_type": "code",
   "execution_count": 99,
   "metadata": {},
   "outputs": [],
   "source": [
    "import pandas as pd\n",
    "import matplotlib.pyplot as plt"
   ]
  },
  {
   "cell_type": "markdown",
   "metadata": {},
   "source": [
    "Tratamento de dados"
   ]
  },
  {
   "cell_type": "code",
   "execution_count": 100,
   "metadata": {},
   "outputs": [
    {
     "data": {
      "text/html": [
       "<div>\n",
       "<style scoped>\n",
       "    .dataframe tbody tr th:only-of-type {\n",
       "        vertical-align: middle;\n",
       "    }\n",
       "\n",
       "    .dataframe tbody tr th {\n",
       "        vertical-align: top;\n",
       "    }\n",
       "\n",
       "    .dataframe thead th {\n",
       "        text-align: right;\n",
       "    }\n",
       "</style>\n",
       "<table border=\"1\" class=\"dataframe\">\n",
       "  <thead>\n",
       "    <tr style=\"text-align: right;\">\n",
       "      <th></th>\n",
       "      <th>matricula</th>\n",
       "      <th>sexo</th>\n",
       "      <th>codigo_inep</th>\n",
       "      <th>nome_curso</th>\n",
       "      <th>nome_unidade</th>\n",
       "      <th>forma_ingresso</th>\n",
       "      <th>ano_ingresso</th>\n",
       "      <th>periodo_ingresso</th>\n",
       "      <th>modalidade_considerada</th>\n",
       "      <th>status</th>\n",
       "      <th>ano_saida</th>\n",
       "      <th>periodo_saida</th>\n",
       "    </tr>\n",
       "  </thead>\n",
       "  <tbody>\n",
       "    <tr>\n",
       "      <th>0</th>\n",
       "      <td>494679</td>\n",
       "      <td>M</td>\n",
       "      <td>1272079.0</td>\n",
       "      <td>CIÊNCIA DA COMPUTAÇÃO</td>\n",
       "      <td>CAMPUS DA UFC DE CRATEÚS</td>\n",
       "      <td>SELEÇÃO SISU</td>\n",
       "      <td>2020</td>\n",
       "      <td>1</td>\n",
       "      <td>L2</td>\n",
       "      <td>CANCELADO</td>\n",
       "      <td>2020</td>\n",
       "      <td>2</td>\n",
       "    </tr>\n",
       "    <tr>\n",
       "      <th>1</th>\n",
       "      <td>400857</td>\n",
       "      <td>M</td>\n",
       "      <td>1272079.0</td>\n",
       "      <td>CIÊNCIA DA COMPUTAÇÃO</td>\n",
       "      <td>CAMPUS DA UFC DE CRATEÚS</td>\n",
       "      <td>SELEÇÃO SISU</td>\n",
       "      <td>2017</td>\n",
       "      <td>1</td>\n",
       "      <td>L2</td>\n",
       "      <td>CANCELADO</td>\n",
       "      <td>2018</td>\n",
       "      <td>1</td>\n",
       "    </tr>\n",
       "    <tr>\n",
       "      <th>2</th>\n",
       "      <td>400945</td>\n",
       "      <td>M</td>\n",
       "      <td>1272079.0</td>\n",
       "      <td>CIÊNCIA DA COMPUTAÇÃO</td>\n",
       "      <td>CAMPUS DA UFC DE CRATEÚS</td>\n",
       "      <td>SELEÇÃO SISU</td>\n",
       "      <td>2017</td>\n",
       "      <td>1</td>\n",
       "      <td>L2</td>\n",
       "      <td>CANCELADO</td>\n",
       "      <td>2020</td>\n",
       "      <td>1</td>\n",
       "    </tr>\n",
       "  </tbody>\n",
       "</table>\n",
       "</div>"
      ],
      "text/plain": [
       "   matricula sexo  codigo_inep             nome_curso  \\\n",
       "0     494679    M    1272079.0  CIÊNCIA DA COMPUTAÇÃO   \n",
       "1     400857    M    1272079.0  CIÊNCIA DA COMPUTAÇÃO   \n",
       "2     400945    M    1272079.0  CIÊNCIA DA COMPUTAÇÃO   \n",
       "\n",
       "               nome_unidade forma_ingresso  ano_ingresso  periodo_ingresso  \\\n",
       "0  CAMPUS DA UFC DE CRATEÚS   SELEÇÃO SISU          2020                 1   \n",
       "1  CAMPUS DA UFC DE CRATEÚS   SELEÇÃO SISU          2017                 1   \n",
       "2  CAMPUS DA UFC DE CRATEÚS   SELEÇÃO SISU          2017                 1   \n",
       "\n",
       "  modalidade_considerada     status ano_saida periodo_saida  \n",
       "0                     L2  CANCELADO      2020             2  \n",
       "1                     L2  CANCELADO      2018             1  \n",
       "2                     L2  CANCELADO      2020             1  "
      ]
     },
     "execution_count": 100,
     "metadata": {},
     "output_type": "execute_result"
    }
   ],
   "source": [
    "data = pd.read_csv(\n",
    "    \"C:\\\\Users\\\\mateu\\\\Documents\\\\MEGA\\\\Projetos-git\\\\dashboard-streamlit\\\\dataset\\\\UFC.csv\",\n",
    "    encoding='latin'\n",
    ")\n",
    "data.head(3)"
   ]
  },
  {
   "cell_type": "markdown",
   "metadata": {},
   "source": [
    "`status`"
   ]
  },
  {
   "cell_type": "code",
   "execution_count": 101,
   "metadata": {},
   "outputs": [
    {
     "data": {
      "text/plain": [
       "array(['CANCELADO', 'ATIVO', 'ATIVO - FORMANDO', 'CONCLUÍDO', 'TRANCADO',\n",
       "       'EM MATRÍCULA INSTITUCIONAL', 'ATIVO - GRADUANDO', 'EM MOBILIDADE'],\n",
       "      dtype=object)"
      ]
     },
     "execution_count": 101,
     "metadata": {},
     "output_type": "execute_result"
    }
   ],
   "source": [
    "data['status'].unique()"
   ]
  },
  {
   "cell_type": "code",
   "execution_count": 102,
   "metadata": {},
   "outputs": [],
   "source": [
    "data['status'] = data['status'].replace({\n",
    "    'ATIVO - FORMANDO':'ATIVO',\n",
    "    'ATIVO - GRADUANDO':'ATIVO',\n",
    "    'EM MATRÍCULA INSTITUCIONAL': 'ATIVO'\n",
    "})\n",
    "data['status'] = data['status'].str.title()"
   ]
  },
  {
   "cell_type": "code",
   "execution_count": 103,
   "metadata": {},
   "outputs": [
    {
     "data": {
      "text/plain": [
       "status\n",
       "Cancelado        110973\n",
       "Concluído         95113\n",
       "Ativo             28733\n",
       "Trancado            262\n",
       "Em Mobilidade        45\n",
       "Name: count, dtype: int64"
      ]
     },
     "execution_count": 103,
     "metadata": {},
     "output_type": "execute_result"
    }
   ],
   "source": [
    "data['status'].value_counts()"
   ]
  },
  {
   "cell_type": "markdown",
   "metadata": {},
   "source": [
    "`sexo`"
   ]
  },
  {
   "cell_type": "code",
   "execution_count": 104,
   "metadata": {},
   "outputs": [
    {
     "data": {
      "text/plain": [
       "sexo\n",
       "M    127440\n",
       "F    107672\n",
       "N        14\n",
       "Name: count, dtype: int64"
      ]
     },
     "execution_count": 104,
     "metadata": {},
     "output_type": "execute_result"
    }
   ],
   "source": [
    "data['sexo'].value_counts()"
   ]
  },
  {
   "cell_type": "code",
   "execution_count": 105,
   "metadata": {},
   "outputs": [],
   "source": [
    "data['sexo'] = data['sexo'].replace({\n",
    "    'M':'Masculino',\n",
    "    'F':'Feminino',\n",
    "    'N':pd.NA    \n",
    "})"
   ]
  },
  {
   "cell_type": "markdown",
   "metadata": {},
   "source": [
    "Será removido devido a pouca quantidade de nulos"
   ]
  },
  {
   "cell_type": "code",
   "execution_count": 106,
   "metadata": {},
   "outputs": [],
   "source": [
    "data.dropna(subset=['sexo'], inplace=True)"
   ]
  },
  {
   "cell_type": "markdown",
   "metadata": {},
   "source": [
    "`Verificando mobilidade em relação a Forma de ingresso vestibular`"
   ]
  },
  {
   "cell_type": "code",
   "execution_count": 107,
   "metadata": {},
   "outputs": [
    {
     "data": {
      "text/plain": [
       "modalidade_considerada\n",
       "    112822\n",
       "Name: count, dtype: int64"
      ]
     },
     "execution_count": 107,
     "metadata": {},
     "output_type": "execute_result"
    }
   ],
   "source": [
    "data[data['forma_ingresso']=='VESTIBULAR']['modalidade_considerada'].value_counts()"
   ]
  },
  {
   "cell_type": "markdown",
   "metadata": {},
   "source": [
    "> Será ignorado esses valores nulos"
   ]
  },
  {
   "cell_type": "code",
   "execution_count": 108,
   "metadata": {},
   "outputs": [],
   "source": [
    "replace_dict = {\n",
    "    'AC': 'Ampla Concorrência',\n",
    "    'L1': 'Escola Pública + Renda ≤ 1.5 SM',\n",
    "    'L2': 'Escola Pública + Renda ≤ 1.5 SM + PPI',\n",
    "    'L5': 'Escola Pública (Sem critério de renda)',\n",
    "    'L6': 'Escola Pública + PPI (Sem critério de renda)',\n",
    "    'L9': 'Deficiência + Escola Pública + Renda ≤ 1.5 SM',\n",
    "    'L10': 'Deficiência + PPI + Escola Pública + Renda ≤ 1.5 SM',\n",
    "    'L13': 'Deficiência + Escola Pública (Sem critério de renda)',\n",
    "    'L14': 'Deficiência + PPI + Escola Pública (Sem critério de renda)'\n",
    "}\n",
    "data['nome_mobilidadade_considerada'] = data['modalidade_considerada'].replace(replace_dict)"
   ]
  },
  {
   "cell_type": "code",
   "execution_count": 109,
   "metadata": {},
   "outputs": [],
   "source": [
    "#'AC', 'L2', 'L6', 'L1', 'L5', 'L14', 'L10', 'L13', 'L9']\n",
    "data['modalidade_considerada'] = data['modalidade_considerada'].replace({\n",
    "    'AC': 'Ampla Concorrencia',\n",
    "    'L1': 'Cota L1',\n",
    "    'L2': 'Cota L2',\n",
    "    'L5': 'Cota L5',\n",
    "    'L6': 'Cota L6',\n",
    "    'L9': 'Cota L9',\n",
    "    'L10': 'Cota L10',\n",
    "    'L13': 'Cota L13',\n",
    "    'L14': 'Cota L14',\n",
    "})"
   ]
  },
  {
   "cell_type": "markdown",
   "metadata": {},
   "source": [
    "`nome_curso` \n",
    "deixando elegivel"
   ]
  },
  {
   "cell_type": "code",
   "execution_count": 110,
   "metadata": {},
   "outputs": [],
   "source": [
    "data['nome_curso'] = data['nome_curso'].str.title()"
   ]
  },
  {
   "cell_type": "code",
   "execution_count": 111,
   "metadata": {},
   "outputs": [],
   "source": [
    "data['nome_curso'] = data['nome_curso']\\\n",
    "       .str.replace(' (Diurno)','')\\\n",
    "        .str.replace(' (Noturno)','')\\\n",
    "        .str.replace('Publica', 'Pública')\\\n",
    "        .str.replace(' (Vespertino-Noturno)', '')\\\n",
    "        .str.replace('Licenciatura Em Biologia', 'Biologia - Licenciatura')\\\n",
    "        .str.replace('Licenciatura Em Matemática', 'Matemática - Licenciatura')\\\n",
    "        .str.replace('Licenciatura Em Química', 'Química - Licenciatura')\\\n",
    "        .str.replace('Licenciatura Em Física', 'Física - Licenciatura')                                                   "
   ]
  },
  {
   "cell_type": "code",
   "execution_count": 112,
   "metadata": {},
   "outputs": [
    {
     "name": "stdout",
     "output_type": "stream",
     "text": [
      "nome_curso\n",
      "Letras                                                12110\n",
      "Direito                                               11803\n",
      "Pedagogia                                              9002\n",
      "Ciências Econômicas                                    8749\n",
      "Agronomia                                              8448\n",
      "Medicina                                               8038\n",
      "Engenharia Civil                                       7674\n",
      "Administração                                          7624\n",
      "Ciências Contábeis                                     7392\n",
      "Farmácia                                               7340\n",
      "Engenharia Elétrica                                    5807\n",
      "Odontologia                                            4995\n",
      "Geografia                                              4376\n",
      "Engenharia De Pesca                                    4171\n",
      "Psicologia                                             4115\n",
      "História                                               4008\n",
      "Enfermagem                                             3870\n",
      "Ciências Sociais                                       3790\n",
      "Ciências Biológicas                                    3708\n",
      "Engenharia De Alimentos                                3685\n",
      "Engenharia Mecânica                                    3602\n",
      "Matemática                                             3429\n",
      "Estatística                                            3197\n",
      "Engenharia Química                                     3186\n",
      "Biblioteconomia                                        3108\n",
      "Letras - Inglês                                        2998\n",
      "Licenciatura Em Letras - Português                     2997\n",
      "Engenharia De Computação                               2842\n",
      "Ciência Da Computação                                  2674\n",
      "Economia Doméstica                                     2655\n",
      "Química                                                2466\n",
      "Arquitetura E Urbanismo                                2447\n",
      "Física                                                 2335\n",
      "Matemática - Licenciatura                              2294\n",
      "Comunicação Social                                     2288\n",
      "Filosofia                                              2266\n",
      "Letras - Espanhol                                      2210\n",
      "Administração Pública                                  2135\n",
      "Geologia                                               2084\n",
      "Engenharia De Energias E Meio Ambiente                 1912\n",
      "Química - Licenciatura                                 1769\n",
      "Computação                                             1699\n",
      "Engenharia De Software                                 1688\n",
      "Física - Licenciatura                                  1644\n",
      "Medicina - Sobral                                      1626\n",
      "Sistemas E Mídias Digitais                             1552\n",
      "Zootecnia                                              1478\n",
      "Secretariado Executivo                                 1456\n",
      "Engenharia De Produção Mecânica                        1431\n",
      "Finanças                                               1410\n",
      "Sistemas De Informação                                 1368\n",
      "Química Industrial                                     1363\n",
      "Química - Bacharelado                                  1303\n",
      "Engenharia Metalúrgica                                 1169\n",
      "Medicina - Barbalha                                    1154\n",
      "Design - Moda                                          1091\n",
      "Educacao Física - Bacharelado                          1066\n",
      "Educacao Física - Licenciatura                         1026\n",
      "Ciências Atuariais                                     1005\n",
      "Psicologia/Ccgpsic - Sobral                            1005\n",
      "Comunicação Social - Jornalismo                        1000\n",
      "Engenharia De Teleinformática                           993\n",
      "Física - Bacharelado                                    987\n",
      "Matemática - Bacharelado                                920\n",
      "Comunicação Social - Publicidade E Propaganda           823\n",
      "Música                                                  806\n",
      "Biotecnologia                                           777\n",
      "Engenharia De Materiais                                 763\n",
      "Educacao Fisica                                         751\n",
      "Redes De Computadores                                   731\n",
      "Gastronomia                                             703\n",
      "Oceanografia                                            692\n",
      "Engenharia De Telecomunicações                          688\n",
      "Pedagogia/Parfor                                        686\n",
      "Cinema E Audiovisual                                    646\n",
      "Fisioterapia                                            645\n",
      "Ciências Ambientais                                     630\n",
      "Teatro - Licenciatura                                   623\n",
      "Design                                                  554\n",
      "Música-Licenciatura                                     544\n",
      "Matemática Industrial                                   540\n",
      "Estilismo E Moda                                        522\n",
      "Engenharia De Produção                                  518\n",
      "Gestão De Políticas Públicas                            516\n",
      "Design Digital                                          471\n",
      "Economia Ecológica                                      463\n",
      "Design De Produto                                       422\n",
      "Musica - Licenciatura                                   408\n",
      "Engenharia De Minas                                     403\n",
      "Interdisciplinar Em Ciências Naturais E Matemática      386\n",
      "Letras - Libras                                         380\n",
      "Processamento De Dados                                  351\n",
      "Educação Física - Bacharelado                           328\n",
      "Ciências                                                305\n",
      "Dança - Licenciatura                                    303\n",
      "Educação Física - Licenciatura                          300\n",
      "Jornalismo                                              290\n",
      "Dança - Bacharelado                                     280\n",
      "Engenharia Ambiental E Sanitária                        274\n",
      "Tecnologia Em Gestão Da Qualidade                       246\n",
      "Engenharia Ambiental                                    197\n",
      "Licenciatura Intercultural Indígena Kuaba               135\n",
      "Licenciatura Intercultural Indígena Pitakaja            130\n",
      "Pedagogia Da Terra / Licenciatura Plena                 107\n",
      "Tecnologia Em Gestão Da Educação Superior               101\n",
      "Tecnologia Em Gestão De Hospitais Universitários        101\n",
      "Segurança Da Informação                                  76\n",
      "Historia                                                 73\n",
      "Ciência De Dados                                         72\n",
      "Direito - Sobral                                         69\n",
      "Análise E Desenvolvimento De Sistemas                    64\n",
      "Comunicação Social - Jornalismo Da Terra                 60\n",
      "Bacharelado Em Design                                    50\n",
      "Magistério Indígena Tremembé Superior                    36\n",
      "Interdisciplinar Em Ciências Naturais                    29\n",
      "Biologia - Licenciatura                                  11\n"
     ]
    }
   ],
   "source": [
    "print(data['nome_curso'].value_counts().to_string())"
   ]
  },
  {
   "cell_type": "code",
   "execution_count": 113,
   "metadata": {},
   "outputs": [
    {
     "data": {
      "text/plain": [
       "['Administração',\n",
       " 'Administração Pública',\n",
       " 'Agronomia',\n",
       " 'Análise E Desenvolvimento De Sistemas',\n",
       " 'Arquitetura E Urbanismo',\n",
       " 'Bacharelado Em Design',\n",
       " 'Biblioteconomia',\n",
       " 'Biologia - Licenciatura',\n",
       " 'Biotecnologia',\n",
       " 'Cinema E Audiovisual',\n",
       " 'Ciência Da Computação',\n",
       " 'Ciência De Dados',\n",
       " 'Ciências',\n",
       " 'Ciências Ambientais',\n",
       " 'Ciências Atuariais',\n",
       " 'Ciências Biológicas',\n",
       " 'Ciências Contábeis',\n",
       " 'Ciências Econômicas',\n",
       " 'Ciências Sociais',\n",
       " 'Computação',\n",
       " 'Comunicação Social',\n",
       " 'Comunicação Social - Jornalismo',\n",
       " 'Comunicação Social - Jornalismo Da Terra',\n",
       " 'Comunicação Social - Publicidade E Propaganda',\n",
       " 'Dança - Bacharelado',\n",
       " 'Dança - Licenciatura',\n",
       " 'Design',\n",
       " 'Design - Moda',\n",
       " 'Design De Produto',\n",
       " 'Design Digital',\n",
       " 'Direito',\n",
       " 'Direito - Sobral',\n",
       " 'Economia Doméstica',\n",
       " 'Economia Ecológica',\n",
       " 'Educacao Fisica',\n",
       " 'Educacao Física - Bacharelado',\n",
       " 'Educacao Física - Licenciatura',\n",
       " 'Educação Física - Bacharelado',\n",
       " 'Educação Física - Licenciatura',\n",
       " 'Enfermagem',\n",
       " 'Engenharia Ambiental',\n",
       " 'Engenharia Ambiental E Sanitária',\n",
       " 'Engenharia Civil',\n",
       " 'Engenharia De Alimentos',\n",
       " 'Engenharia De Computação',\n",
       " 'Engenharia De Energias E Meio Ambiente',\n",
       " 'Engenharia De Materiais',\n",
       " 'Engenharia De Minas',\n",
       " 'Engenharia De Pesca',\n",
       " 'Engenharia De Produção',\n",
       " 'Engenharia De Produção Mecânica',\n",
       " 'Engenharia De Software',\n",
       " 'Engenharia De Telecomunicações',\n",
       " 'Engenharia De Teleinformática',\n",
       " 'Engenharia Elétrica',\n",
       " 'Engenharia Mecânica',\n",
       " 'Engenharia Metalúrgica',\n",
       " 'Engenharia Química',\n",
       " 'Estatística',\n",
       " 'Estilismo E Moda',\n",
       " 'Farmácia',\n",
       " 'Filosofia',\n",
       " 'Finanças',\n",
       " 'Fisioterapia',\n",
       " 'Física',\n",
       " 'Física - Bacharelado',\n",
       " 'Física - Licenciatura',\n",
       " 'Gastronomia',\n",
       " 'Geografia',\n",
       " 'Geologia',\n",
       " 'Gestão De Políticas Públicas',\n",
       " 'Historia',\n",
       " 'História',\n",
       " 'Interdisciplinar Em Ciências Naturais',\n",
       " 'Interdisciplinar Em Ciências Naturais E Matemática',\n",
       " 'Jornalismo',\n",
       " 'Letras',\n",
       " 'Letras - Espanhol',\n",
       " 'Letras - Inglês',\n",
       " 'Letras - Libras',\n",
       " 'Licenciatura Em Letras - Português',\n",
       " 'Licenciatura Intercultural Indígena Kuaba',\n",
       " 'Licenciatura Intercultural Indígena Pitakaja',\n",
       " 'Magistério Indígena Tremembé Superior',\n",
       " 'Matemática',\n",
       " 'Matemática - Bacharelado',\n",
       " 'Matemática - Licenciatura',\n",
       " 'Matemática Industrial',\n",
       " 'Medicina',\n",
       " 'Medicina - Barbalha',\n",
       " 'Medicina - Sobral',\n",
       " 'Musica - Licenciatura',\n",
       " 'Música',\n",
       " 'Música-Licenciatura',\n",
       " 'Oceanografia',\n",
       " 'Odontologia',\n",
       " 'Pedagogia',\n",
       " 'Pedagogia Da Terra / Licenciatura Plena',\n",
       " 'Pedagogia/Parfor',\n",
       " 'Processamento De Dados',\n",
       " 'Psicologia',\n",
       " 'Psicologia/Ccgpsic - Sobral',\n",
       " 'Química',\n",
       " 'Química - Bacharelado',\n",
       " 'Química - Licenciatura',\n",
       " 'Química Industrial',\n",
       " 'Redes De Computadores',\n",
       " 'Secretariado Executivo',\n",
       " 'Segurança Da Informação',\n",
       " 'Sistemas De Informação',\n",
       " 'Sistemas E Mídias Digitais',\n",
       " 'Teatro - Licenciatura',\n",
       " 'Tecnologia Em Gestão Da Educação Superior',\n",
       " 'Tecnologia Em Gestão Da Qualidade',\n",
       " 'Tecnologia Em Gestão De Hospitais Universitários',\n",
       " 'Zootecnia']"
      ]
     },
     "execution_count": 113,
     "metadata": {},
     "output_type": "execute_result"
    }
   ],
   "source": [
    "sorted(data['nome_curso'].value_counts().index.to_list())"
   ]
  },
  {
   "cell_type": "markdown",
   "metadata": {},
   "source": [
    "`nome_unidade`\n",
    "\n",
    "deixando é nome mais elegivel"
   ]
  },
  {
   "cell_type": "code",
   "execution_count": 114,
   "metadata": {},
   "outputs": [],
   "source": [
    "data['nome_unidade']  = data['nome_unidade'].str.title()"
   ]
  },
  {
   "cell_type": "code",
   "execution_count": 115,
   "metadata": {},
   "outputs": [],
   "source": [
    "data.to_csv('C:\\\\Users\\\\mateu\\\\Documents\\\\MEGA\\\\Projetos-git\\\\dashboard-streamlit\\\\dataset\\\\UFC-clean.csv')"
   ]
  }
 ],
 "metadata": {
  "kernelspec": {
   "display_name": "Python 3",
   "language": "python",
   "name": "python3"
  },
  "language_info": {
   "codemirror_mode": {
    "name": "ipython",
    "version": 3
   },
   "file_extension": ".py",
   "mimetype": "text/x-python",
   "name": "python",
   "nbconvert_exporter": "python",
   "pygments_lexer": "ipython3",
   "version": "3.12.7"
  }
 },
 "nbformat": 4,
 "nbformat_minor": 2
}
